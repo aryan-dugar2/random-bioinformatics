{
 "cells": [
  {
   "cell_type": "code",
   "execution_count": 2,
   "metadata": {},
   "outputs": [],
   "source": [
    "import numpy as np\n",
    "import matplotlib.pyplot as plt\n",
    "import seaborn as sns\n",
    "import pandas as pd"
   ]
  },
  {
   "cell_type": "code",
   "execution_count": 3,
   "metadata": {},
   "outputs": [],
   "source": [
    "import math"
   ]
  },
  {
   "cell_type": "code",
   "execution_count": 4,
   "metadata": {},
   "outputs": [],
   "source": [
    "# Read initial files in\n",
    "# df1 = pd.read_csv(\"sample_files.txt\",sep = \",\")\n",
    "headers = list(pd.read_csv(\"cols_varscan.txt\",sep = \"\\t\").columns)\n",
    "df_pandas = pd.read_csv(\"veryexonic.txt\",sep = \"\\t\",names = headers)"
   ]
  },
  {
   "cell_type": "code",
   "execution_count": 4,
   "metadata": {},
   "outputs": [],
   "source": [
    "# Why not?\n",
    "df1 = df_pandas"
   ]
  },
  {
   "cell_type": "code",
   "execution_count": 113,
   "metadata": {},
   "outputs": [],
   "source": [
    "# Get list of columns containing \"AF\"\n",
    "AF_list = ['AF','AF_afr',\n",
    " 'AF_sas',\n",
    " 'AF_amr',\n",
    " 'AF_eas',\n",
    " 'AF_nfe',\n",
    " 'AF_fin',\n",
    " 'AF_asj',\n",
    " 'AF_oth']\n",
    "\n",
    "# Filter data.\n",
    "df2 = df1[(df1['AF'] != '0') & (df1['AF'] != '.') & (df1['AF_afr'] != '.') & (df1['AF_sas'] != '.') & (df1['AF_amr'] != '.') & (df1['AF_eas'] != '.') & (df1['AF_nfe'] != '.') & (df1['AF_fin'] != '.') & (df1['AF_asj'] != '.') & (df1['AF_oth'] != '.') ]\n",
    "\n",
    "# Isolate allele frequency data\n",
    "data = df2.to_numpy()[:,43:51]\n",
    "data = data.astype('float')"
   ]
  },
  {
   "cell_type": "code",
   "execution_count": 114,
   "metadata": {},
   "outputs": [
    {
     "name": "stderr",
     "output_type": "stream",
     "text": [
      "/Users/kennethpienta/anaconda3/lib/python3.6/site-packages/ipykernel_launcher.py:2: RuntimeWarning: divide by zero encountered in true_divide\n",
      "  \n",
      "/Users/kennethpienta/anaconda3/lib/python3.6/site-packages/ipykernel_launcher.py:2: RuntimeWarning: invalid value encountered in true_divide\n",
      "  \n"
     ]
    }
   ],
   "source": [
    "# Normalise data\n",
    "norm_data = (data - np.sum(data,axis = 1).reshape(-1,1)/data.shape[1])/np.sqrt(np.var(data,axis = 1).reshape(-1,1))\n",
    "\n",
    "var_vector1 = np.var(data,axis = 1)\n",
    "stdev_vector1 = np.sqrt(var_vector1)"
   ]
  },
  {
   "cell_type": "code",
   "execution_count": 152,
   "metadata": {},
   "outputs": [],
   "source": [
    "a = df2.to_numpy()[np.where(stdev_vector1 >= 0.1)]"
   ]
  },
  {
   "cell_type": "code",
   "execution_count": 1,
   "metadata": {},
   "outputs": [
    {
     "ename": "NameError",
     "evalue": "name 'a' is not defined",
     "output_type": "error",
     "traceback": [
      "\u001b[0;31m---------------------------------------------------------------------------\u001b[0m",
      "\u001b[0;31mNameError\u001b[0m                                 Traceback (most recent call last)",
      "\u001b[0;32m<ipython-input-1-9c839a56ca4f>\u001b[0m in \u001b[0;36m<module>\u001b[0;34m\u001b[0m\n\u001b[0;32m----> 1\u001b[0;31m \u001b[0ma\u001b[0m\u001b[0;34m[\u001b[0m\u001b[0;36m4\u001b[0m\u001b[0;34m,\u001b[0m\u001b[0;36m43\u001b[0m\u001b[0;34m:\u001b[0m\u001b[0;36m51\u001b[0m\u001b[0;34m]\u001b[0m\u001b[0;34m\u001b[0m\u001b[0m\n\u001b[0m",
      "\u001b[0;31mNameError\u001b[0m: name 'a' is not defined"
     ]
    }
   ],
   "source": [
    "a[4,43:51]"
   ]
  },
  {
   "cell_type": "code",
   "execution_count": null,
   "metadata": {},
   "outputs": [],
   "source": [
    "plt.plot(a[:,42],stdev_vector1[np.where(stdev_vector1 >= 0.1)])"
   ]
  },
  {
   "cell_type": "code",
   "execution_count": 147,
   "metadata": {},
   "outputs": [],
   "source": [
    "selected_data = norm_data[np.where(stdev_vector1 >= 0.1)]"
   ]
  },
  {
   "cell_type": "code",
   "execution_count": 139,
   "metadata": {},
   "outputs": [
    {
     "data": {
      "text/plain": [
       "(493, 8)"
      ]
     },
     "execution_count": 139,
     "metadata": {},
     "output_type": "execute_result"
    }
   ],
   "source": [
    "selected_data.shape"
   ]
  },
  {
   "cell_type": "code",
   "execution_count": 140,
   "metadata": {},
   "outputs": [],
   "source": [
    "max_list = list(i for j in range(selected_data.shape[0]) for i in range(selected_data.shape[1]) if selected_data[j][i] == np.max(selected_data,axis = 1)[j])  "
   ]
  },
  {
   "cell_type": "code",
   "execution_count": 141,
   "metadata": {},
   "outputs": [],
   "source": [
    "max_list = sorted(max_list)\n",
    "\n",
    "dict1 = {}\n",
    "\n",
    "for elem in max_list:\n",
    "    if elem in dict1.keys():\n",
    "        dict1[elem] += 1\n",
    "    else:\n",
    "        dict1[elem] = 1"
   ]
  },
  {
   "cell_type": "code",
   "execution_count": 144,
   "metadata": {},
   "outputs": [],
   "source": [
    "max_inds = np.argsort(np.array(max_list))"
   ]
  },
  {
   "cell_type": "code",
   "execution_count": 142,
   "metadata": {},
   "outputs": [
    {
     "data": {
      "text/plain": [
       "{0: 147, 1: 5, 2: 5, 3: 214, 4: 35, 5: 53, 6: 34}"
      ]
     },
     "execution_count": 142,
     "metadata": {},
     "output_type": "execute_result"
    }
   ],
   "source": [
    "dict1"
   ]
  },
  {
   "cell_type": "code",
   "execution_count": 143,
   "metadata": {},
   "outputs": [
    {
     "data": {
      "text/plain": [
       "Text(0.5,0,\"['AF_afr', 'AF_sas', 'AF_amr', 'AF_eas', 'AF_nfe', 'AF_fin', 'AF_asj', 'AF_oth']\")"
      ]
     },
     "execution_count": 143,
     "metadata": {},
     "output_type": "execute_result"
    },
    {
     "data": {
      "image/png": "[encoded data removed]",
      "text/plain": [
       "<Figure size 432x288 with 1 Axes>"
      ]
     },
     "metadata": {
      "needs_background": "light"
     },
     "output_type": "display_data"
    }
   ],
   "source": [
    "plt.hist(max_list)\n",
    "plt.xlabel(AF_list[1:])"
   ]
  },
  {
   "cell_type": "code",
   "execution_count": null,
   "metadata": {},
   "outputs": [],
   "source": []
  },
  {
   "cell_type": "code",
   "execution_count": 88,
   "metadata": {},
   "outputs": [],
   "source": [
    "stdev_vector2 = np.sort(stdev_vector1)\n",
    "\n",
    "stdev_vector3 = stdev_vector2[np.where(stdev_vector2 >= 0.0002)]"
   ]
  },
  {
   "cell_type": "code",
   "execution_count": 94,
   "metadata": {},
   "outputs": [
    {
     "data": {
      "text/plain": [
       "(array([  2.14515382e+01,   1.57367944e+00,   9.19547353e-01,\n",
       "          4.41063740e-01,   1.68150865e-01,   3.82377930e-02,\n",
       "          5.86176505e-03,   1.43136123e-03,   1.36320118e-04,\n",
       "          1.36320118e-04]),\n",
       " array([ 0.        ,  0.04065076,  0.08130153,  0.12195229,  0.16260306,\n",
       "         0.20325382,  0.24390459,  0.28455535,  0.32520612,  0.36585688,\n",
       "         0.40650765]),\n",
       " <a list of 10 Patch objects>)"
      ]
     },
     "execution_count": 94,
     "metadata": {},
     "output_type": "execute_result"
    },
    {
     "data": {
      "image/png": "[encoded data removed]",
      "text/plain": [
       "<Figure size 432x288 with 1 Axes>"
      ]
     },
     "metadata": {
      "needs_background": "light"
     },
     "output_type": "display_data"
    }
   ],
   "source": [
    "plt.hist(stdev_vector1,bins = 10,density = True)"
   ]
  },
  {
   "cell_type": "code",
   "execution_count": 6,
   "metadata": {},
   "outputs": [],
   "source": [
    "foo = 'Sample'\n",
    "bar = np.array(df_pandas.columns)\n",
    "out = [i for i, v in enumerate(bar) if foo in v]\n",
    "start_ind,stop_ind = out[0],out[-1]\n",
    "\n",
    "sample_data = df2.to_numpy()[:,start_ind:stop_ind+1] # Extract samples from filtered data"
   ]
  },
  {
   "cell_type": "code",
   "execution_count": 7,
   "metadata": {},
   "outputs": [],
   "source": [
    "sample_data[np.where(sample_data == '.')] = 0\n",
    "sample_data[np.where(sample_data != 0)] = 1"
   ]
  },
  {
   "cell_type": "code",
   "execution_count": 8,
   "metadata": {},
   "outputs": [],
   "source": [
    "z = np.zeros([sample_data.shape[0],sample_data.shape[1]])\n",
    "\n",
    "for i in range(z.shape[0]):\n",
    "    for j in range(z.shape[1]):\n",
    "        z[i][j] = sample_data[i][j]"
   ]
  },
  {
   "cell_type": "code",
   "execution_count": 9,
   "metadata": {},
   "outputs": [],
   "source": [
    "z = np.transpose(z)"
   ]
  },
  {
   "cell_type": "code",
   "execution_count": 11,
   "metadata": {},
   "outputs": [],
   "source": [
    "header_list = ['Chr',\n",
    " 'Start',\n",
    " 'End',\n",
    " 'Ref',\n",
    " 'Alt',\n",
    " 'Func.refGene',\n",
    " 'Gene.refGene',\n",
    " 'GeneDetail.refGene',\n",
    " 'ExonicFunc.refGene',\n",
    " 'AAChange.refGene',\n",
    " 'Func.ensGene',\n",
    " 'Gene.ensGene',\n",
    " 'GeneDetail.ensGene',\n",
    " 'ExonicFunc.ensGene',\n",
    " 'AAChange.ensGene','AF','AF_afr',\n",
    " 'AF_sas',\n",
    " 'AF_amr',\n",
    " 'AF_eas',\n",
    " 'AF_nfe',\n",
    " 'AF_fin',\n",
    " 'AF_asj',\n",
    " 'AF_oth','DamagePredCount','Quality',\n",
    " 'Coverage']\n",
    "\n",
    "samples_header_list = []\n",
    "\n",
    "for i in headers:\n",
    "    if 'Sample' in i:\n",
    "        samples_header_list.append(i)"
   ]
  },
  {
   "cell_type": "code",
   "execution_count": 12,
   "metadata": {},
   "outputs": [],
   "source": [
    "samples_header_list = np.array(samples_header_list).reshape(-1,1)"
   ]
  },
  {
   "cell_type": "code",
   "execution_count": 13,
   "metadata": {},
   "outputs": [],
   "source": [
    "stacked = np.vstack([headers,df2.to_numpy()])"
   ]
  },
  {
   "cell_type": "code",
   "execution_count": 14,
   "metadata": {},
   "outputs": [
    {
     "data": {
      "text/plain": [
       "array([['Chr', 'Start', 'End', ..., 'Sample_G4_9A_S8', 'Sample_110A',\n",
       "        'Sample_2810_001'],\n",
       "       ['chr1', 69270, 69270, ..., '.', '.', '.'],\n",
       "       ['chr1', 69428, 69428, ..., '.', '.', '.'],\n",
       "       ..., \n",
       "       ['chrY', 22942897, 22942897, ..., '.', '.', '.'],\n",
       "       ['chrY', 23702603, 23702603, ..., '.', '.', '.'],\n",
       "       ['chrY', 24551698, 24551698, ..., '.', '.', '.']], dtype=object)"
      ]
     },
     "execution_count": 14,
     "metadata": {},
     "output_type": "execute_result"
    }
   ],
   "source": [
    "stacked"
   ]
  },
  {
   "cell_type": "code",
   "execution_count": 15,
   "metadata": {},
   "outputs": [],
   "source": [
    "# Extract relevant columns\n",
    "relev_inds = list(headers.index(header) for header in header_list) # Column indices \n",
    "new = stacked[:,relev_inds]"
   ]
  },
  {
   "cell_type": "code",
   "execution_count": null,
   "metadata": {},
   "outputs": [
    {
     "data": {
      "text/plain": [
       "((666, 1), (666, 367195))"
      ]
     },
     "execution_count": 15,
     "metadata": {},
     "output_type": "execute_result"
    }
   ],
   "source": [
    "samples_header_list.shape,z.shape"
   ]
  },
  {
   "cell_type": "code",
   "execution_count": 16,
   "metadata": {},
   "outputs": [],
   "source": [
    "sample_dat = np.hstack([samples_header_list,z]) # Sample_data"
   ]
  },
  {
   "cell_type": "code",
   "execution_count": 17,
   "metadata": {},
   "outputs": [],
   "source": [
    "meta_dat = np.transpose(new)"
   ]
  },
  {
   "cell_type": "code",
   "execution_count": 18,
   "metadata": {},
   "outputs": [],
   "source": [
    "final = np.vstack([meta_dat,sample_dat])"
   ]
  },
  {
   "cell_type": "code",
   "execution_count": 25,
   "metadata": {},
   "outputs": [],
   "source": [
    "pd.DataFrame(final).to_csv(\"good_file.csv\")"
   ]
  },
  {
   "cell_type": "code",
   "execution_count": 15,
   "metadata": {},
   "outputs": [
    {
     "data": {
      "text/plain": [
       "[Text(0.5, 0, 'Number of Patients Possessing A Given Variant'),\n",
       " Text(0, 0.5, 'How many such samples?')]"
      ]
     },
     "execution_count": 15,
     "metadata": {},
     "output_type": "execute_result"
    },
    {
     "data": {
      "image/png": "[encoded data removed]",
      "text/plain": [
       "<Figure size 432x288 with 1 Axes>"
      ]
     },
     "metadata": {
      "needs_background": "light"
     },
     "output_type": "display_data"
    }
   ],
   "source": [
    "num_variants = np.sum(z,axis=1) # number of variants per sample\n",
    "#sns.histplot(num_variants)\n",
    "\n",
    "num_samples = np.sum(z, axis = 0) # number of samples with given variant.\n",
    "\n",
    "sorted_ns = np.flip(np.sort(num_samples))\n",
    "ax = sns.histplot(sorted_ns[0:155000],kde = True)\n",
    "ax.set(xlabel = \"Number of Patients Possessing A Given Variant\", ylabel = \"How many such samples?\")"
   ]
  },
  {
   "cell_type": "code",
   "execution_count": 99,
   "metadata": {},
   "outputs": [
    {
     "data": {
      "text/plain": [
       "<AxesSubplot:>"
      ]
     },
     "execution_count": 99,
     "metadata": {},
     "output_type": "execute_result"
    },
    {
     "data": {
      "image/png": "[encoded data removed]",
      "text/plain": [
       "<Figure size 432x288 with 2 Axes>"
      ]
     },
     "metadata": {
      "needs_background": "light"
     },
     "output_type": "display_data"
    }
   ],
   "source": [
    "# Generate heatmap.\n",
    "sns.heatmap(z[0:665,300000:320000])\n",
    "# Consider downsizing your matrix?"
   ]
  },
  {
   "cell_type": "code",
   "execution_count": 17,
   "metadata": {},
   "outputs": [],
   "source": [
    "def z_score(patient_id,allele_id,df):\n",
    "    ''' Find z-score for Allele Frequencies'''\n",
    "    AF_list = ['AF','AF_afr',\n",
    " 'AF_sas',\n",
    " 'AF_amr',\n",
    " 'AF_eas',\n",
    " 'AF_nfe',\n",
    " 'AF_fin',\n",
    " 'AF_asj',\n",
    " 'AF_oth']\n",
    "    \n",
    "    AF_array = np.zeros([len(AF_list[1:])],dtype = 'float')\n",
    "\n",
    "    for i in range(len(AF_list[1:])):\n",
    "        AF_array[i] = float(df[AF_list[i]][allele_id])# Certain row from certain column in df_pandas\n",
    "        \n",
    "    #print(AF_array)\n",
    "        \n",
    "    mean = float(df[AF_list[0]][allele_id])\n",
    "    stdev = math.sqrt(np.var(AF_array))\n",
    "    \n",
    "    norm_AF_array = (AF_array - mean)/stdev\n",
    "\n",
    "    # Produce dictionary\n",
    "    x = {i:norm_AF_array[i] for i in range(len(AF_list[1:]))}\n",
    "    \n",
    "    # Sort your AF_dict\n",
    "    AF_dict = {k: v for k, v in sorted(x.items(), key=lambda item: item[1],reverse = True)}\n",
    "    \n",
    "    return AF_dict"
   ]
  },
  {
   "cell_type": "code",
   "execution_count": 18,
   "metadata": {},
   "outputs": [
    {
     "data": {
      "text/plain": [
       "{6: 1.3998707309540375,\n",
       " 5: 1.0074383503100188,\n",
       " 0: 0.0,\n",
       " 7: -0.6150059696659999,\n",
       " 3: -0.9020087555101332,\n",
       " 2: -1.1421539436654282,\n",
       " 1: -1.2417263387542092,\n",
       " 4: -1.4350139292206663}"
      ]
     },
     "execution_count": 18,
     "metadata": {},
     "output_type": "execute_result"
    }
   ],
   "source": [
    "z_score(1,1,df2)"
   ]
  },
  {
   "cell_type": "code",
   "execution_count": null,
   "metadata": {},
   "outputs": [],
   "source": []
  },
  {
   "cell_type": "code",
   "execution_count": null,
   "metadata": {},
   "outputs": [
    {
     "name": "stdout",
     "output_type": "stream",
     "text": [
      "0\n"
     ]
    },
    {
     "name": "stderr",
     "output_type": "stream",
     "text": [
      "<ipython-input-17-9ba1f0bf0a7e>:22: RuntimeWarning: invalid value encountered in true_divide\n",
      "  norm_AF_array = (AF_array - mean)/stdev\n"
     ]
    },
    {
     "name": "stdout",
     "output_type": "stream",
     "text": [
      "5\n",
      "10\n",
      "15\n",
      "20\n",
      "25\n",
      "30\n"
     ]
    }
   ],
   "source": [
    "num_patients = z.shape[0]\n",
    "num_alleles = z.shape[1]\n",
    "\n",
    "running_count = np.array([])\n",
    "ethnicity = []\n",
    "\n",
    "#for i in range(num_patients): # Iterate over patients\n",
    "\n",
    "for i in range(num_patients):\n",
    "    if i%5 == 0:\n",
    "        print(i)\n",
    "    for j in range(num_alleles): # Iterate over alleles\n",
    "        \n",
    "        condition = ((df_pandas['AF'][j] != '.') and (df_pandas['AF_afr'][j] != '.') & (df_pandas['AF_sas'][j] != '.') & (df_pandas['AF_amr'][j] != '.') & (df_pandas['AF_eas'][j] != '.') & (df_pandas['AF_nfe'][j] != '.') & (df_pandas['AF_fin'][j] != '.') & (df_pandas['AF_asj'][j] != '.') & (df_pandas['AF_oth'][j] != '.'))\n",
    "\n",
    "        if z[i,j] == 1 and condition == True: # If patient has an allele\n",
    "            \n",
    "            \n",
    "            top3 = np.array(list(z_score(i,j,df2).keys())[:3]) # Get top 3 ethnicities.\n",
    "            \n",
    "            #print(top3)\n",
    "            running_count = np.concatenate((running_count,top3))   \n",
    "            \n",
    "    unique, counts = np.unique(running_count, return_counts=True)\n",
    "        \n",
    "    max_ind = np.where(counts == np.max(counts))[0][0]\n",
    "    a = unique[max_ind]\n",
    "    ethnicity.append(a)"
   ]
  },
  {
   "cell_type": "code",
   "execution_count": 1,
   "metadata": {},
   "outputs": [
    {
     "ename": "NameError",
     "evalue": "name 'ethnicity' is not defined",
     "output_type": "error",
     "traceback": [
      "\u001b[0;31m---------------------------------------------------------------------------\u001b[0m",
      "\u001b[0;31mNameError\u001b[0m                                 Traceback (most recent call last)",
      "\u001b[0;32m<ipython-input-1-b43c3b3f1e7d>\u001b[0m in \u001b[0;36m<module>\u001b[0;34m\u001b[0m\n\u001b[0;32m----> 1\u001b[0;31m \u001b[0methnicity\u001b[0m\u001b[0;34m\u001b[0m\u001b[0;34m\u001b[0m\u001b[0m\n\u001b[0m",
      "\u001b[0;31mNameError\u001b[0m: name 'ethnicity' is not defined"
     ]
    }
   ],
   "source": [
    "ethnicity"
   ]
  },
  {
   "cell_type": "code",
   "execution_count": 177,
   "metadata": {},
   "outputs": [
    {
     "data": {
      "text/plain": [
       "0"
      ]
     },
     "execution_count": 177,
     "metadata": {},
     "output_type": "execute_result"
    }
   ],
   "source": [
    "np.where(counts == np.max(counts))[0][0]"
   ]
  },
  {
   "cell_type": "code",
   "execution_count": 159,
   "metadata": {},
   "outputs": [
    {
     "data": {
      "text/plain": [
       "'.'"
      ]
     },
     "execution_count": 159,
     "metadata": {},
     "output_type": "execute_result"
    }
   ],
   "source": [
    "df_pandas['AF'][318]"
   ]
  },
  {
   "cell_type": "code",
   "execution_count": null,
   "metadata": {},
   "outputs": [],
   "source": []
  }
 ],
 "metadata": {
  "kernelspec": {
   "display_name": "Python 3",
   "language": "python",
   "name": "python3"
  },
  "language_info": {
   "codemirror_mode": {
    "name": "ipython",
    "version": 3
   },
   "file_extension": ".py",
   "mimetype": "text/x-python",
   "name": "python",
   "nbconvert_exporter": "python",
   "pygments_lexer": "ipython3",
   "version": "3.6.2"
  }
 },
 "nbformat": 4,
 "nbformat_minor": 4
}
