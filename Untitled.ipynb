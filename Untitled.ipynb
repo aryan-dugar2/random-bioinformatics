{
 "cells": [
  {
   "cell_type": "code",
   "execution_count": 10,
   "id": "a5432305-eeee-4ac0-a6f9-e92737f5c879",
   "metadata": {},
   "outputs": [
    {
     "data": {
      "text/plain": [
       "'/scratch4'"
      ]
     },
     "execution_count": 10,
     "metadata": {},
     "output_type": "execute_result"
    }
   ],
   "source": [
    "import os\n",
    "os.getcwd()"
   ]
  },
  {
   "cell_type": "code",
   "execution_count": 11,
   "id": "40bf8bc0-0584-4e17-9d1a-d8b5f5473a0c",
   "metadata": {},
   "outputs": [],
   "source": [
    "os.chdir(\"jluo2/adugar1/scRNA\")"
   ]
  },
  {
   "cell_type": "code",
   "execution_count": 13,
   "id": "f4a425a9-98c7-4af3-bd31-1666a409dc14",
   "metadata": {},
   "outputs": [
    {
     "data": {
      "text/plain": [
       "['slurm-6104505.out',\n",
       " 'links.txt',\n",
       " 'sample_cr_count.bash',\n",
       " '.bam_downloader.sh.swp',\n",
       " 'R-Studio-Server.slurm.script',\n",
       " 'ERROR.err',\n",
       " 'sampleData',\n",
       " '.r-studio-variables',\n",
       " 'cellranger-7.0.0',\n",
       " 'slurm-6104665.out',\n",
       " 'slurm-6104661.out',\n",
       " 'possorted_genome_bam11.bam.1',\n",
       " 'possorted_genome_bam2.bam.1',\n",
       " '.Rhistory',\n",
       " 'sample_outs',\n",
       " 'outs',\n",
       " 'slurm-6104689.out',\n",
       " 'slurm-6103826.out',\n",
       " 'slurm-6103850.out',\n",
       " 'rstudio-server.job.6105100.out',\n",
       " 'hg38',\n",
       " 'possorted_genome_bam12.bam.1',\n",
       " 'Trash',\n",
       " 'bam_downloader.sh',\n",
       " ']',\n",
       " 'fastqdata']"
      ]
     },
     "execution_count": 13,
     "metadata": {},
     "output_type": "execute_result"
    }
   ],
   "source": [
    "os.listdir()"
   ]
  },
  {
   "cell_type": "code",
   "execution_count": 32,
   "id": "1afeeed2-a863-4d26-a95f-3e9bce9c8282",
   "metadata": {},
   "outputs": [],
   "source": [
    "a = \"ftp://ftp.sra.ebi.ac.uk/vol1/run/SRR136/SRR13644608/possorted_genome_bam11.bam.1\\n\"\n",
    "i = a.find(\"bam\")"
   ]
  },
  {
   "cell_type": "code",
   "execution_count": 38,
   "id": "3980a372-4dd1-4fc0-9966-7fb301fff38d",
   "metadata": {},
   "outputs": [
    {
     "data": {
      "text/plain": [
       "'sample11'"
      ]
     },
     "execution_count": 38,
     "metadata": {},
     "output_type": "execute_result"
    }
   ],
   "source": [
    "\"sample\"+a[i+3:i+5]"
   ]
  },
  {
   "cell_type": "code",
   "execution_count": 65,
   "id": "c5fc8adb-9bee-4aff-8081-1e373d156e56",
   "metadata": {},
   "outputs": [
    {
     "data": {
      "text/plain": [
       "'/scratch4/jluo2/adugar1/scRNA'"
      ]
     },
     "execution_count": 65,
     "metadata": {},
     "output_type": "execute_result"
    }
   ],
   "source": [
    "os.getcwd()"
   ]
  },
  {
   "cell_type": "code",
   "execution_count": 84,
   "id": "d9c1cb4e-504e-4618-9299-41533d5ab176",
   "metadata": {},
   "outputs": [],
   "source": [
    "wgt_comms = {}\n",
    "\n",
    "with open(\"links.txt\",\"r\") as file:\n",
    "    data = file.readlines()\n",
    "    \n",
    "    for line in data:\n",
    "        if \"bam\" in line:\n",
    "           \n",
    "            i = line.find(\"bam\")\n",
    "            \n",
    "            if \".\" in line[i+3:i+5]:\n",
    "                string = \"sample\"+line[i+3:i+4]\n",
    "            else:\n",
    "                string = \"sample\"+line[i+3:i+5]\n",
    "            \n",
    "            wgt_comms[string] = \"wget \" + line + \" -O \" + string"
   ]
  },
  {
   "cell_type": "code",
   "execution_count": 89,
   "id": "498f5bc6-24f3-444f-b8d7-360954ad42ef",
   "metadata": {},
   "outputs": [
    {
     "data": {
      "text/plain": [
       "{'sample11': 'wget ftp://ftp.sra.ebi.ac.uk/vol1/run/SRR136/SRR13644608/possorted_genome_bam11.bam.1\\n -O sample11',\n",
       " 'sample10': 'wget ftp://ftp.sra.ebi.ac.uk/vol1/run/SRR136/SRR13644609/possorted_genome_bam10.bam.1\\n -O sample10',\n",
       " 'sample9': 'wget ftp://ftp.sra.ebi.ac.uk/vol1/run/SRR136/SRR13644610/possorted_genome_bam9.bam.1\\n -O sample9',\n",
       " 'sample8': 'wget ftp://ftp.sra.ebi.ac.uk/vol1/run/SRR136/SRR13644611/possorted_genome_bam8.bam.1\\n -O sample8',\n",
       " 'sample6': 'wget ftp://ftp.sra.ebi.ac.uk/vol1/run/SRR136/SRR13644612/possorted_genome_bam6.bam.1\\n -O sample6',\n",
       " 'sample4': 'wget ftp://ftp.sra.ebi.ac.uk/vol1/run/SRR136/SRR13644613/possorted_genome_bam4.bam.1\\n -O sample4',\n",
       " 'sample3': 'wget ftp://ftp.sra.ebi.ac.uk/vol1/run/SRR136/SRR13644614/possorted_genome_bam3.bam.1\\n -O sample3',\n",
       " 'sample13': 'wget ftp://ftp.sra.ebi.ac.uk/vol1/run/SRR136/SRR13644615/possorted_genome_bam13.bam.1\\n -O sample13',\n",
       " 'sample2': 'wget ftp://ftp.sra.ebi.ac.uk/vol1/run/SRR136/SRR13644616/possorted_genome_bam2.bam.1\\n -O sample2',\n",
       " 'sample1': 'wget ftp://ftp.sra.ebi.ac.uk/vol1/run/SRR136/SRR13644617/possorted_genome_bam1.bam.1\\n -O sample1'}"
      ]
     },
     "execution_count": 89,
     "metadata": {},
     "output_type": "execute_result"
    }
   ],
   "source": [
    "wgt_comms"
   ]
  },
  {
   "cell_type": "code",
   "execution_count": 90,
   "id": "a4376a8d-774a-47af-bf2d-4306398ec141",
   "metadata": {},
   "outputs": [
    {
     "data": {
      "text/plain": [
       "'/scratch4/jluo2/adugar1/scRNA'"
      ]
     },
     "execution_count": 90,
     "metadata": {},
     "output_type": "execute_result"
    }
   ],
   "source": [
    "os.mv()"
   ]
  },
  {
   "cell_type": "code",
   "execution_count": 91,
   "id": "a79ac8fb-a747-44b6-8157-61de2c53ce89",
   "metadata": {},
   "outputs": [],
   "source": [
    "os.chdir(\"fastqdata_t2\")"
   ]
  },
  {
   "cell_type": "code",
   "execution_count": 98,
   "id": "66d30d8c-6bfb-4538-a03f-2ef966b99140",
   "metadata": {},
   "outputs": [],
   "source": [
    "def func1(sample):\n",
    "    \n",
    "    name = \"#SBATCH --job-name=\" + sample + \"\\n\"\n",
    "    err = \"#SBATCH --error=\" + sample[sample.find(\"sample\"):] + \".err\\n\"\n",
    "    \n",
    "    initial = [\"#!/bin/sh\\n\",\n",
    "    name,\n",
    "    \"#SBATCH --nodes=2\\n\",\n",
    "    \"#SBATCH --ntasks=48\\n\",\n",
    "    \"#SBATCH --time=02:00:00\\n\",\n",
    "    err,\n",
    "    \"#SBATCH --mail-type=END\\n\",\n",
    "    \"#SBATCH --mail-user=adugar1@jhu.edu\\n\"]\n",
    "    \n",
    "    return initial"
   ]
  },
  {
   "cell_type": "code",
   "execution_count": 99,
   "id": "ba3459e7-788a-40ff-9f95-b2a2a99c58a5",
   "metadata": {},
   "outputs": [],
   "source": [
    "for i,com in wgt_comms.items():\n",
    "    file_name = i + \".sh\"\n",
    "    with open(file_name, \"w\") as file:\n",
    "        file.writelines(func1(i))\n",
    "        file.write(com)"
   ]
  },
  {
   "cell_type": "code",
   "execution_count": null,
   "id": "adf7a828-d0c3-4cf5-a33c-d7008d46b836",
   "metadata": {},
   "outputs": [],
   "source": []
  }
 ],
 "metadata": {
  "kernelspec": {
   "display_name": "Python 3 (ipykernel)",
   "language": "python",
   "name": "python3"
  },
  "language_info": {
   "codemirror_mode": {
    "name": "ipython",
    "version": 3
   },
   "file_extension": ".py",
   "mimetype": "text/x-python",
   "name": "python",
   "nbconvert_exporter": "python",
   "pygments_lexer": "ipython3",
   "version": "3.9.0"
  }
 },
 "nbformat": 4,
 "nbformat_minor": 5
}
